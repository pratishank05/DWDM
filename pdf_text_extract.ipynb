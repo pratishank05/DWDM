{
 "cells": [
  {
   "attachments": {},
   "cell_type": "markdown",
   "metadata": {},
   "source": [
    "# Reading from PDF"
   ]
  },
  {
   "attachments": {},
   "cell_type": "markdown",
   "metadata": {},
   "source": [
    "Libraries that we need "
   ]
  },
  {
   "cell_type": "code",
   "execution_count": 1,
   "metadata": {},
   "outputs": [],
   "source": [
    "from pypdf import PdfReader\n",
    "import pandas as pd"
   ]
  },
  {
   "cell_type": "code",
   "execution_count": 2,
   "metadata": {},
   "outputs": [],
   "source": [
    "# #we pass the page as input the pdfreader function from pypdf library\n",
    "# reader = PdfReader('data/pdf/BatteryEnclosuresAcc.pdf')\n",
    "# #using reader object to printing number of pages \n",
    "# number_of_pages = len(reader.pages)\n",
    "# print(number_of_pages)\n",
    "# #now we can think pages as an array we can take a look at the first one\n",
    "# page = reader.pages[0]\n",
    "# # we can extract only text \n",
    "# text = page.extract_text()\n",
    "# # here is our first page text content \n",
    "# text"
   ]
  },
  {
   "attachments": {},
   "cell_type": "markdown",
   "metadata": {},
   "source": [
    "the best format so far"
   ]
  },
  {
   "cell_type": "code",
   "execution_count": 2,
   "metadata": {},
   "outputs": [],
   "source": [
    "category_names = ['CategoryName','Batteries','BatteryEnclosuresAcc','Chargers','Charging_Accessories','Controller_Accessories','Controllers','DC_Converters',\n",
    "'DrivetrainComponents','EV_Conversion_Kits','Hose_Fittings','Instrumentation','Miscellaneous','Motor_Accessories','Motor_Adapters','Motors','Services',\n",
    "\"Used_Components\",\"Wiring_Parts\"]\n",
    "list_of_pdfs= [category_name +\".pdf\" for category_name in category_names]\n",
    "list_of_csv= [category_name +\".csv\" for category_name in category_names]"
   ]
  },
  {
   "cell_type": "code",
   "execution_count": 7,
   "metadata": {},
   "outputs": [],
   "source": [
    "def pdfReader(category,file_name_in,file_name_out):\n",
    "    path_in = \"data/pdf/\"\n",
    "    file_path_in = f\"{path_in}{file_name_in}\"\n",
    "    reader = PdfReader(file_path_in)\n",
    "    df = pd.DataFrame(columns=[\"category\",'model','model_description' ,'model_name', 'manufacturer', 'weight', 'price'])\n",
    "    number_of_pages = len(reader.pages)\n",
    "    data =[]\n",
    "    category= category\n",
    "    # page = reader.pages[0]\n",
    "    # text = page.extract_text()\n",
    "    # print(text)\n",
    "    for page_num in range(number_of_pages):\n",
    "        page = reader.pages[page_num]\n",
    "        text = page.extract_text()\n",
    "        # we start splitting chunks from \"Price:\" because this splits two chunks \n",
    "        chunks = text.split(\"Price:\")\n",
    "        for i,  chunk in  enumerate(chunks[1:], start=1): # Skip the first chunk which is before the first \"Price\"\n",
    "            #print(\"line\", i)\n",
    "            if \"Show\" in chunk:\n",
    "                # If \"Show\" is in the chunk, break out of the loop\n",
    "                break\n",
    "            if \"Model\" in chunk:\n",
    "                # Get the text between \"Price\" and \"Model\"\n",
    "                model_description = chunk.split(\"Model\")[0].split(\"\\n\")[0].strip()\n",
    "                #get the description \n",
    "                model_name = chunk.split(\"Model\")[0]\n",
    "                # Get the text between \"Model\" and \"Manufacturer\"\n",
    "                model = chunk.split(\"Model :\")[1].split(\"Manufacturer :\")[0]\n",
    "                manufacturer = chunk.split(\"Manufacturer\")[1].split(\"Weight\")[0]\n",
    "                # print(\"Manufacturer\")\n",
    "                # print(manufacturer)\n",
    "                weight  = chunk.split(\"Weight\")[1].split(\"\\n\")[0].strip()\n",
    "                # print(\"weight\")\n",
    "                # print(weight)\n",
    "                price  = chunk.split(\"Weight\")[1].split(\"\\n\")[1].strip()\n",
    "                price_item = \"$\" in price\n",
    "                if price_item is False:\n",
    "                    text = model_name.split(\"$\")[1:]  # Split the text at each \"$\" symbol and remove the first empty string\n",
    "                    start_price = text[0]  # First element in the list is the start price\n",
    "                    price = \"$\"+start_price\n",
    "                # print(\"price\")\n",
    "                # print(price)\n",
    "                # Add the data to the DataFrame as a new row\n",
    "                df.loc[len(df.index)] = [category,model,model_name,model_description, manufacturer,weight, price ]\n",
    "            else:\n",
    "                # print(\"Price:\" + chunk)\n",
    "                # print(\" \")\n",
    "                data.append(chunk)\n",
    "    # # Create a pandas DataFrame from the data list\n",
    "    # df = pd.DataFrame(data)\n",
    "    # print(\"#########\")\n",
    "    # print(\"this is my df\")\n",
    "    # print(df)\n",
    "    path_out = \"data/ew_csv/\"\n",
    "    file_path_out = f\"{path_out}{file_name_out}\"\n",
    "    df.to_csv(file_path_out, index=False)\n",
    "    print(file_name_in, \"done\")\n",
    "    "
   ]
  },
  {
   "cell_type": "code",
   "execution_count": 8,
   "metadata": {},
   "outputs": [
    {
     "name": "stdout",
     "output_type": "stream",
     "text": [
      "Batteries.pdf done\n",
      "BatteryEnclosuresAcc.pdf done\n",
      "Chargers.pdf done\n",
      "Charging_Accessories.pdf done\n",
      "Controller_Accessories.pdf done\n",
      "Controllers.pdf done\n",
      "DC_Converters.pdf done\n",
      "DrivetrainComponents.pdf done\n",
      "EV_Conversion_Kits.pdf done\n",
      "Hose_Fittings.pdf done\n",
      "Instrumentation.pdf done\n",
      "Miscellaneous.pdf done\n",
      "Motor_Accessories.pdf done\n",
      "Motor_Adapters.pdf done\n",
      "Motors.pdf done\n",
      "Services.pdf done\n",
      "Used_Components.pdf done\n",
      "Wiring_Parts.pdf done\n"
     ]
    }
   ],
   "source": [
    "category_names = ['Batteries','BatteryEnclosuresAcc','Chargers','Charging_Accessories','Controller_Accessories','Controllers','DC_Converters',\n",
    "'DrivetrainComponents','EV_Conversion_Kits','Hose_Fittings','Instrumentation','Miscellaneous','Motor_Accessories','Motor_Adapters','Motors','Services',\n",
    "\"Used_Components\",\"Wiring_Parts\"]\n",
    "list_of_pdfs= [category_name +\".pdf\" for category_name in category_names]\n",
    "list_of_csv= [category_name +\".csv\" for category_name in category_names]\n",
    "# print(len(list_of_csv))\n",
    "for item in range(len(category_names)):\n",
    "    pdfReader(category=category_names[item],file_name_in= list_of_pdfs[item],file_name_out=list_of_csv[item])"
   ]
  },
  {
   "cell_type": "code",
   "execution_count": 13,
   "metadata": {},
   "outputs": [
    {
     "name": "stdout",
     "output_type": "stream",
     "text": [
      "187\n",
      "187\n"
     ]
    }
   ],
   "source": [
    "df = pd.DataFrame(columns=[\"category\",'model','model_description' ,'model_name', 'manufacturer', 'weight', 'price'])\n",
    "size =0\n",
    "for item in range(1,len(list_of_csv)):\n",
    "    path = \"data/ew_csv/\"\n",
    "    file_path = f\"{path}{list_of_csv[item]}\"\n",
    "    # print(file_path)\n",
    "    df_new = pd.read_csv(file_path)\n",
    "    size += len(df_new)\n",
    "    df= pd.concat([df, df_new], axis=0)\n",
    "\n",
    "print(len(df))\n",
    "print(size)\n",
    "df.to_csv(\"data/evWest.csv\", index=False)"
   ]
  },
  {
   "cell_type": "code",
   "execution_count": 3,
   "metadata": {},
   "outputs": [],
   "source": [
    "# # #testcode\n",
    "# import pandas as pd\n",
    "# import re\n",
    "# # Create an empty list to store the data\n",
    "# # Create an empty DataFrame to store the data\n",
    "# df = pd.DataFrame(columns=[\"category\",'model','model_description' ,'model_name', 'manufacturer', 'weight', 'price'])\n",
    "# category= \"Battery Enclosures & Acc.\"\n",
    "# reader = PdfReader('data/pdf/Batteries.pdf')\n",
    "# number_of_pages = len(reader.pages)\n",
    "# data = []\n",
    "# # page = reader.pages[0]\n",
    "# # text = page.extract_text()\n",
    "# # print(text)\n",
    "# for page_num in range(number_of_pages):\n",
    "#     page = reader.pages[page_num]\n",
    "#     text = page.extract_text()\n",
    "#     # we start splitting chunks from \"Price:\" because this splits two chunks \n",
    "#     chunks = text.split(\"Price:\")\n",
    "#     for i,  chunk in  enumerate(chunks[1:], start=1): # Skip the first chunk which is before the first \"Price\"\n",
    "#         #print(\"line\", i)\n",
    "#         if \"Show\" in chunk:\n",
    "#             # If \"Show\" is in the chunk, break out of the loop\n",
    "#             break\n",
    "#         if \"Model\" in chunk:\n",
    "#             # Get the text between \"Price\" and \"Model\"\n",
    "#             model_description = chunk.split(\"Model\")[0].split(\"\\n\")[0].strip()\n",
    "#             #get the description \n",
    "#             model_name = chunk.split(\"Model\")[0]\n",
    "#             # Get the text between \"Model\" and \"Manufacturer\"\n",
    "#             model = chunk.split(\"Model :\")[1].split(\"Manufacturer :\")[0]\n",
    "#             manufacturer = chunk.split(\"Manufacturer\")[1].split(\"Weight\")[0]\n",
    "#             # print(\"Manufacturer\")\n",
    "#             # print(manufacturer)\n",
    "#             weight  = chunk.split(\"Weight\")[1].split(\"\\n\")[0].strip()\n",
    "#             # print(\"weight\")\n",
    "#             # print(weight)\n",
    "#             price  = chunk.split(\"Weight\")[1].split(\"\\n\")[1].strip()\n",
    "#             price_item = \"$\" in price\n",
    "#             if price_item is False:\n",
    "#                 text = model_name.split(\"$\")[1:]  # Split the text at each \"$\" symbol and remove the first empty string\n",
    "#                 start_price = text[0]  # First element in the list is the start price\n",
    "#                 price = \"$\"+start_price\n",
    "#             # print(\"price\")\n",
    "#             # print(price)\n",
    "#             # Add the data to the DataFrame as a new row\n",
    "#             df.loc[len(df.index)] = [category,model,model_name,model_description, manufacturer,weight, price ]\n",
    "#         else:\n",
    "#             # print(\"Price:\" + chunk)\n",
    "#             # print(\" \")\n",
    "#             data.append(chunk)\n",
    "\n",
    "# ## Create a pandas DataFrame from the data list\n",
    "# # df = pd.DataFrame(data)\n",
    "# # print(\"#########\")\n",
    "# # print(\"this is my df\")\n",
    "# df.to_csv(\"test.csv\", index=False)\n",
    "# # # # r =\"$\" in str(df[\"price\"][9])\n",
    "# # # # r\n",
    "\n"
   ]
  },
  {
   "cell_type": "code",
   "execution_count": null,
   "metadata": {},
   "outputs": [],
   "source": [
    "# text = \"$799.00$990.00Tesla Smart Lithium Ion Battery\"\n",
    "# prices = text.split(\"$\")[1:]  # Split the text at each \"$\" symbol and remove the first empty string\n",
    "# start_price = prices[0]  # First element in the list is the start price\n",
    "# end_price = prices[1]  # Second element in the list is the end price\n",
    "# print(\"Start price:\", start_price)\n",
    "# print(\"End price:\", end_price)\n"
   ]
  }
 ],
 "metadata": {
  "kernelspec": {
   "display_name": "Python 3",
   "language": "python",
   "name": "python3"
  },
  "language_info": {
   "codemirror_mode": {
    "name": "ipython",
    "version": 3
   },
   "file_extension": ".py",
   "mimetype": "text/x-python",
   "name": "python",
   "nbconvert_exporter": "python",
   "pygments_lexer": "ipython3",
   "version": "3.10.6"
  },
  "orig_nbformat": 4
 },
 "nbformat": 4,
 "nbformat_minor": 2
}
